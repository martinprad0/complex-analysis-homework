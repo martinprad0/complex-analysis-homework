{
 "cells": [
  {
   "cell_type": "code",
   "execution_count": 85,
   "metadata": {},
   "outputs": [
    {
     "data": {
      "text/latex": [
       "$\\displaystyle x + i y$"
      ],
      "text/plain": [
       "x + I*y"
      ]
     },
     "execution_count": 85,
     "metadata": {},
     "output_type": "execute_result"
    }
   ],
   "source": [
    "import sympy as sp\n",
    "from sympy import re, im, I, E, symbols, conjugate\n",
    "x, y, a ,b, c, d = symbols('x y a b c d', real=True)\n",
    "z = x+I*y\n",
    "w = a+I*b\n",
    "\n",
    "f = lambda z :  (w-z)/(1- conjugate(w)*z)\n",
    "f(f(z)).simplify()"
   ]
  },
  {
   "cell_type": "code",
   "execution_count": 39,
   "metadata": {},
   "outputs": [
    {
     "data": {
      "text/latex": [
       "$\\displaystyle - \\frac{a^{2} + b^{2}}{c^{2} + d^{2}} + \\operatorname{re}{\\left(\\frac{\\left(i a + b\\right)^{2}}{\\left(i c + d\\right)^{2}}\\right)}$"
      ],
      "text/plain": [
       "-(a**2 + b**2)/(c**2 + d**2) + re((I*a + b)**2/(I*c + d)**2)"
      ]
     },
     "execution_count": 39,
     "metadata": {},
     "output_type": "execute_result"
    }
   ],
   "source": [
    "f = lambda z : (a*z + b)/(c*z+d)\n",
    "re(f(I)**2 - f(-I)*f(I))"
   ]
  },
  {
   "cell_type": "code",
   "execution_count": 81,
   "metadata": {},
   "outputs": [
    {
     "name": "stdout",
     "output_type": "stream",
     "text": [
      "x + I*y\n",
      "x + I*y\n"
     ]
    }
   ],
   "source": [
    "phi = lambda z : I*(1-z)/(1+z)\n",
    "phi_inv = lambda w : (I - w)/(I + w)\n",
    "\n",
    "print(phi(phi_inv(x+I*y)).simplify())\n",
    "print(phi_inv(phi(x+I*y)).simplify())"
   ]
  },
  {
   "cell_type": "code",
   "execution_count": 88,
   "metadata": {},
   "outputs": [
    {
     "data": {
      "text/latex": [
       "$\\displaystyle \\frac{2 a}{a^{2} + \\left(b + 1\\right)^{2}}$"
      ],
      "text/plain": [
       "2*a/(a**2 + (b + 1)**2)"
      ]
     },
     "execution_count": 88,
     "metadata": {},
     "output_type": "execute_result"
    }
   ],
   "source": [
    "im(phi_inv(w)).simplify()"
   ]
  },
  {
   "cell_type": "code",
   "execution_count": 82,
   "metadata": {},
   "outputs": [
    {
     "data": {
      "text/latex": [
       "$\\displaystyle - \\frac{x^{2}}{x^{2} + \\left(y + 1\\right)^{2}} - \\frac{\\left(1 - y\\right) \\left(- y - 1\\right)}{x^{2} + \\left(y + 1\\right)^{2}}$"
      ],
      "text/plain": [
       "-x**2/(x**2 + (y + 1)**2) - (1 - y)*(-y - 1)/(x**2 + (y + 1)**2)"
      ]
     },
     "execution_count": 82,
     "metadata": {},
     "output_type": "execute_result"
    }
   ],
   "source": [
    "re(phi_inv(x+I*y))"
   ]
  }
 ],
 "metadata": {
  "kernelspec": {
   "display_name": "Python 3",
   "language": "python",
   "name": "python3"
  },
  "language_info": {
   "codemirror_mode": {
    "name": "ipython",
    "version": 3
   },
   "file_extension": ".py",
   "mimetype": "text/x-python",
   "name": "python",
   "nbconvert_exporter": "python",
   "pygments_lexer": "ipython3",
   "version": "3.12.4"
  }
 },
 "nbformat": 4,
 "nbformat_minor": 2
}
