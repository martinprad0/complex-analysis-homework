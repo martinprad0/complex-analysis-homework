{
 "cells": [
  {
   "cell_type": "code",
   "execution_count": 97,
   "metadata": {},
   "outputs": [
    {
     "data": {
      "text/latex": [
       "$\\displaystyle - \\frac{- \\frac{i}{\\left(z + i \\pi\\right)^{5}} + \\frac{i}{\\left(z - i \\pi\\right)^{5}}}{32 \\pi^{5}} + \\frac{15 \\left(- \\frac{i}{\\left(z + i \\pi\\right)^{3}} + \\frac{i}{\\left(z - i \\pi\\right)^{3}}\\right)}{128 \\pi^{7}} - \\frac{35 \\left(- \\frac{i}{z + i \\pi} + \\frac{i}{z - i \\pi}\\right)}{256 \\pi^{9}} + \\frac{5 \\left(\\frac{1}{\\left(z + i \\pi\\right)^{4}} + \\frac{1}{\\left(z - i \\pi\\right)^{4}}\\right)}{64 \\pi^{6}} - \\frac{35 \\left(\\frac{1}{\\left(z + i \\pi\\right)^{2}} + \\frac{1}{\\left(z - i \\pi\\right)^{2}}\\right)}{256 \\pi^{8}}$"
      ],
      "text/plain": [
       "-(-I/(z + I*pi)**5 + I/(z - I*pi)**5)/(32*pi**5) + 15*(-I/(z + I*pi)**3 + I/(z - I*pi)**3)/(128*pi**7) - 35*(-I/(z + I*pi) + I/(z - I*pi))/(256*pi**9) + 5*((z + I*pi)**(-4) + (z - I*pi)**(-4))/(64*pi**6) - 35*((z + I*pi)**(-2) + (z - I*pi)**(-2))/(256*pi**8)"
      ]
     },
     "execution_count": 97,
     "metadata": {},
     "output_type": "execute_result"
    }
   ],
   "source": [
    "from sympy import *\n",
    "x = Symbol(\"x\", real=True, positive = True)\n",
    "z= symbols('z', complex=True, real=False)\n",
    "n = 5\n",
    "den = factor((z**2 + pi**2)**n, extension = I)\n",
    "apart(1/den, z, full = True).doit()"
   ]
  }
 ],
 "metadata": {
  "kernelspec": {
   "display_name": "Python 3",
   "language": "python",
   "name": "python3"
  },
  "language_info": {
   "codemirror_mode": {
    "name": "ipython",
    "version": 3
   },
   "file_extension": ".py",
   "mimetype": "text/x-python",
   "name": "python",
   "nbconvert_exporter": "python",
   "pygments_lexer": "ipython3",
   "version": "3.12.4"
  }
 },
 "nbformat": 4,
 "nbformat_minor": 2
}
